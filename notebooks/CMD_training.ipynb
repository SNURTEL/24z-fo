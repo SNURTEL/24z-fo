{
  "nbformat": 4,
  "nbformat_minor": 0,
  "metadata": {
    "colab": {
      "provenance": []
    },
    "kernelspec": {
      "name": "python3",
      "display_name": "Python 3"
    },
    "language_info": {
      "name": "python"
    },
    "accelerator": "GPU"
  },
  "cells": [
    {
      "cell_type": "markdown",
      "metadata": {
        "id": "EHCsP9N_anrq"
      },
      "source": [
        "### Due to computational limitations from google colab, we illustrate the training and testing of a network on CMC maps using a simplify version of the benchmark codes and also using a fraction of all the data available. We note that the results obtained in this example are far from optimal and are just shown as an illustration."
      ]
    },
    {
      "cell_type": "markdown",
      "metadata": {
        "id": "D6kZv812TDL0"
      },
      "source": [
        "### Import libraries"
      ]
    },
    {
      "cell_type": "code",
      "metadata": {
        "id": "Mo2BXcp0SdlU"
      },
      "source": [
        "import numpy as np\n",
        "import torch\n",
        "import torch.nn as nn\n",
        "import torch.backends.cudnn as cudnn\n",
        "from google.colab import drive\n",
        "from torch.utils.data.dataset import Dataset\n",
        "from torch.utils.data import DataLoader\n",
        "import time, sys, os\n",
        "import matplotlib.pyplot as plt"
      ],
      "execution_count": null,
      "outputs": []
    },
    {
      "cell_type": "markdown",
      "metadata": {
        "id": "wK6Yg020wRA1"
      },
      "source": [
        "### The code will run on both CPUs or GPUs"
      ]
    },
    {
      "cell_type": "code",
      "metadata": {
        "colab": {
          "base_uri": "https://localhost:8080/"
        },
        "id": "DbjG-fAOwSAd",
        "outputId": "ac7a7438-d7e7-4607-f859-1407cc8905b7"
      },
      "source": [
        "if torch.cuda.is_available():\n",
        "    print(\"CUDA Available\")\n",
        "    device = torch.device('cuda')\n",
        "else:\n",
        "    print('CUDA Not Available')\n",
        "    device = torch.device('cpu')\n",
        "cudnn.benchmark = True      #May train faster but cost more memory"
      ],
      "execution_count": null,
      "outputs": [
        {
          "output_type": "stream",
          "text": [
            "CUDA Available\n"
          ],
          "name": "stdout"
        }
      ]
    },
    {
      "cell_type": "markdown",
      "metadata": {
        "id": "OWruKmhfTYky"
      },
      "source": [
        "### upload the data to google colab. We recommend the usage of google drive."
      ]
    },
    {
      "cell_type": "code",
      "metadata": {
        "colab": {
          "base_uri": "https://localhost:8080/"
        },
        "id": "BfDHHDEtS6zH",
        "outputId": "4650827e-2c3c-421a-d68f-601a994c5bd3"
      },
      "source": [
        "drive.mount('/content/drive')"
      ],
      "execution_count": null,
      "outputs": [
        {
          "output_type": "stream",
          "text": [
            "Mounted at /content/drive\n"
          ],
          "name": "stdout"
        }
      ]
    },
    {
      "cell_type": "markdown",
      "metadata": {
        "id": "G4Ayvo_OAaY7"
      },
      "source": [
        "### Define the value of the parameters and hyperparameters"
      ]
    },
    {
      "cell_type": "code",
      "metadata": {
        "id": "aI-iV68kAitv"
      },
      "source": [
        "# data parameters\n",
        "fmaps      = ['maps_T.npy'] #tuple containing the maps with the different fields to consider\n",
        "fmaps_norm = [None] #if you want to normalize the maps according to the properties of some data set, put that data set here (This is mostly used when training on IllustrisTNG and testing on SIMBA, or vicerversa)\n",
        "fparams    = '/content/drive/MyDrive/params_IllustrisTNG.txt'\n",
        "seed       = 1   #random seed to split maps among training, validation and testing\n",
        "splits     = 6   #number of maps per simulation\n",
        "\n",
        "# training parameters\n",
        "channels        = 1                #we only consider here 1 field\n",
        "params          = [0,1,2,3,4,5]    #0(Omega_m) 1(sigma_8) 2(A_SN1) 3 (A_AGN1) 4(A_SN2) 5(A_AGN2). The code will be trained to predict all these parameters.\n",
        "g               = params           #g will contain the mean of the posterior\n",
        "h               = [6+i for i in g] #h will contain the variance of the posterior\n",
        "rot_flip_in_mem = False            #whether rotations and flipings are kept in memory. True will make the code faster but consumes more RAM memory.\n",
        "\n",
        "# optimizer parameters\n",
        "beta1 = 0.5\n",
        "beta2 = 0.999\n",
        "\n",
        "# hyperparameters\n",
        "batch_size = 128\n",
        "lr         = 1e-3\n",
        "wd         = 0.0005  #value of weight decay\n",
        "dr         = 0.2    #dropout value for fully connected layers\n",
        "hidden     = 5      #this determines the number of channels in the CNNs; integer larger than 1\n",
        "epochs     = 100    #number of epochs to train the network\n",
        "\n",
        "# output files names\n",
        "floss  = 'loss.txt'   #file with the training and validation losses for each epoch\n",
        "fmodel = 'weights.pt' #file containing the weights of the best-model"
      ],
      "execution_count": null,
      "outputs": []
    },
    {
      "cell_type": "markdown",
      "metadata": {
        "id": "rmEZ5c7acfX8"
      },
      "source": [
        "### We are going to use only a fraction of the data for illustration purposes. First read the whole data."
      ]
    },
    {
      "cell_type": "code",
      "metadata": {
        "id": "VydQS7u-ckhh",
        "colab": {
          "base_uri": "https://localhost:8080/"
        },
        "outputId": "66f851a2-c698-429a-b5f7-fcde6b213895"
      },
      "source": [
        "fmaps2 = '/content/drive/MyDrive/Images_T_IllustrisTNG_LH_z=0.00.npy'\n",
        "maps  = np.load(fmaps2)\n",
        "print('Shape of the maps:',maps.shape)"
      ],
      "execution_count": null,
      "outputs": [
        {
          "output_type": "stream",
          "text": [
            "Shape of the maps: (15000, 256, 256)\n"
          ],
          "name": "stdout"
        }
      ]
    },
    {
      "cell_type": "markdown",
      "metadata": {
        "id": "npR_8jka3EF4"
      },
      "source": [
        "### Now, only select a few maps per simulation and save a file with them"
      ]
    },
    {
      "cell_type": "code",
      "metadata": {
        "id": "w0mENYL4dMeB",
        "colab": {
          "base_uri": "https://localhost:8080/"
        },
        "outputId": "1f2b7f23-ac46-4b4d-83d3-26fcab71ffd2"
      },
      "source": [
        "# define the array that will contain the indexes of the maps\n",
        "indexes = np.zeros(1000*splits, dtype=np.int32)\n",
        "\n",
        "# do a loop over all maps and choose the ones we want\n",
        "count = 0\n",
        "for i in range(15000):\n",
        "    if i%15 in np.arange(splits):\n",
        "      indexes[count] = i\n",
        "      count += 1\n",
        "print('Selected %d maps out of 15000'%count)\n",
        "\n",
        "# save these maps to a new file\n",
        "maps = maps[indexes]\n",
        "np.save('maps_T.npy', maps)\n",
        "del maps"
      ],
      "execution_count": null,
      "outputs": [
        {
          "output_type": "stream",
          "text": [
            "Selected 6000 maps out of 15000\n"
          ],
          "name": "stdout"
        }
      ]
    },
    {
      "cell_type": "markdown",
      "metadata": {
        "id": "OotlA8exo5Ce"
      },
      "source": [
        "### These routines define the way the data is input and fed into the network. We then read the data and get the training and validation sets"
      ]
    },
    {
      "cell_type": "code",
      "metadata": {
        "id": "-HygjyLJpFf_",
        "colab": {
          "base_uri": "https://localhost:8080/"
        },
        "outputId": "999adde7-37f7-4221-e72d-72515e2f8cd3"
      },
      "source": [
        "# This routine returns the data loader need to train the network\n",
        "def create_dataset_multifield(mode, seed, fmaps, fparams, batch_size, splits, fmaps_norm,\n",
        "                              rot_flip_in_mem=True, shuffle=True, verbose=False):\n",
        "\n",
        "    # whether rotations and flippings are kept in memory\n",
        "    if rot_flip_in_mem:\n",
        "        data_set = make_dataset_multifield(mode, seed, fmaps, fparams, splits, fmaps_norm, verbose)\n",
        "    else:\n",
        "        data_set = make_dataset_multifield2(mode, seed, fmaps, fparams, splits, fmaps_norm, verbose)\n",
        "\n",
        "    data_loader = DataLoader(dataset=data_set, batch_size=batch_size, shuffle=shuffle)\n",
        "    return data_loader\n",
        "\n",
        "\n",
        "# This class creates the dataset. Rotations and flippings are precompued and stored in memory\n",
        "class make_dataset_multifield():\n",
        "\n",
        "    def __init__(self, mode, seed, fmaps, fparams, splits, fmaps_norm, verbose):\n",
        "\n",
        "        # get the total number of sims and maps\n",
        "        params_sims = np.loadtxt(fparams) #simulations parameters, NOT maps parameters\n",
        "        total_sims, total_maps, num_params = \\\n",
        "                params_sims.shape[0], params_sims.shape[0]*splits, params_sims.shape[1]\n",
        "        params_maps = np.zeros((total_maps, num_params), dtype=np.float32)\n",
        "        for i in range(total_sims):\n",
        "            for j in range(splits):\n",
        "                params_maps[i*splits + j] = params_sims[i]\n",
        "\n",
        "        # normalize the value of the cosmological & astrophysical parameters\n",
        "        minimum     = np.array([0.1, 0.6, 0.25, 0.25, 0.5, 0.5])\n",
        "        maximum     = np.array([0.5, 1.0, 4.00, 4.00, 2.0, 2.0])\n",
        "        params_maps = (params_maps - minimum)/(maximum - minimum)\n",
        "\n",
        "        # get the size and offset depending on the type of dataset\n",
        "        if   mode=='train':  offset, size_sims = int(0.00*total_sims), int(0.90*total_sims)\n",
        "        elif mode=='valid':  offset, size_sims = int(0.90*total_sims), int(0.05*total_sims)\n",
        "        elif mode=='test':   offset, size_sims = int(0.95*total_sims), int(0.05*total_sims)\n",
        "        elif mode=='all':    offset, size_sims = int(0.00*total_sims), int(1.00*total_sims)\n",
        "        else:                raise Exception('Wrong name!')\n",
        "        size_maps = size_sims*splits\n",
        "\n",
        "        # randomly shuffle the simulations (not maps). Instead of 0 1 2 3...999 have a\n",
        "        # random permutation. E.g. 5 9 0 29...342\n",
        "        np.random.seed(seed)\n",
        "        sim_numbers = np.arange(total_sims) #shuffle sims not maps\n",
        "        np.random.shuffle(sim_numbers)\n",
        "        sim_numbers = sim_numbers[offset:offset+size_sims] #select indexes of mode\n",
        "\n",
        "        # get the corresponding indexes of the maps associated to the sims\n",
        "        indexes = np.zeros(size_maps, dtype=np.int32)\n",
        "        count = 0\n",
        "        for i in sim_numbers:\n",
        "            for j in range(splits):\n",
        "                indexes[count] = i*splits + j\n",
        "                count += 1\n",
        "\n",
        "        # keep only the value of the parameters of the considered maps\n",
        "        params_maps = params_maps[indexes]\n",
        "\n",
        "        # define the matrix containing the maps with rotations and flipings\n",
        "        channels = len(fmaps)\n",
        "        dumb     = np.load(fmaps[0])    #[number of maps, height, width]\n",
        "        height, width = dumb.shape[1], dumb.shape[2];  del dumb\n",
        "        data     = np.zeros((size_maps*8, channels, height, width), dtype=np.float32)\n",
        "        params   = np.zeros((size_maps*8, num_params),              dtype=np.float32)\n",
        "\n",
        "        # read the data\n",
        "        print('Found %d channels\\nReading data...'%channels)\n",
        "        for channel, (fim, fnorm) in enumerate(zip(fmaps, fmaps_norm)):\n",
        "\n",
        "            # read maps in the considered channel\n",
        "            data_c = np.load(fim)\n",
        "            if data_c.shape[0]!=total_maps:  raise Exception('sizes do not match')\n",
        "            if verbose:  print('%.3e < F(all|orig) < %.3e'%(np.min(data_c), np.max(data_c)))\n",
        "\n",
        "            # rescale maps\n",
        "            if fim.find('Mstar')!=-1:  data_c = np.log10(data_c + 1.0)\n",
        "            else:                      data_c = np.log10(data_c)\n",
        "            if verbose:  print('%.3f < F(all|resc)  < %.3f'%(np.min(data_c), np.max(data_c)))\n",
        "\n",
        "            # normalize maps\n",
        "            if fnorm is None:\n",
        "                mean,    std     = np.mean(data_c), np.std(data_c)\n",
        "            else:\n",
        "                # read data\n",
        "                data_norm = np.load(fnorm)\n",
        "\n",
        "                # rescale\n",
        "                if fnorm.find('Mstar')!=-1:  data_norm = np.log10(data_norm + 1.0)\n",
        "                else:                        data_norm = np.log10(data_norm)\n",
        "\n",
        "                # compute mean and std\n",
        "                mean,    std     = np.mean(data_norm), np.std(data_norm)\n",
        "                del data_norm\n",
        "\n",
        "            data_c = (data_c - mean)/std\n",
        "            if verbose:  print('%.3f < F(all|norm) < %.3f'%(np.min(data_c), np.max(data_c)))\n",
        "\n",
        "            # keep only the data of the chosen set\n",
        "            data_c = data_c[indexes]\n",
        "\n",
        "            # do a loop over all rotations (each is 90 deg)\n",
        "            counted_maps = 0\n",
        "            for rot in [0,1,2,3]:\n",
        "                data_rot = np.rot90(data_c, k=rot, axes=(1,2))\n",
        "\n",
        "                data[counted_maps:counted_maps+size_maps,channel,:,:] = data_rot\n",
        "                params[counted_maps:counted_maps+size_maps]           = params_maps\n",
        "                counted_maps += size_maps\n",
        "\n",
        "                data[counted_maps:counted_maps+size_maps,channel,:,:] = \\\n",
        "                                                    np.flip(data_rot, axis=1)\n",
        "                params[counted_maps:counted_maps+size_maps]           = params_maps\n",
        "                counted_maps += size_maps\n",
        "\n",
        "            if verbose:\n",
        "                print('Channel %d contains %d maps'%(channel,counted_maps))\n",
        "                print('%.3f < F < %.3f\\n'%(np.min(data_c), np.max(data_c)))\n",
        "\n",
        "        self.size = data.shape[0]\n",
        "        self.x    = torch.tensor(data,   dtype=torch.float32)\n",
        "        self.y    = torch.tensor(params, dtype=torch.float32)\n",
        "        del data, data_c\n",
        "\n",
        "    def __len__(self):\n",
        "        return self.size\n",
        "\n",
        "    def __getitem__(self, idx):\n",
        "        return self.x[idx], self.y[idx]\n",
        "\n",
        "# This class creates the dataset. It will read the maps and store them in memory.\n",
        "# The rotations and flipings are done when calling the data\n",
        "class make_dataset_multifield2():\n",
        "\n",
        "    def __init__(self, mode, seed, fmaps, fparams, splits, fmaps_norm, verbose):\n",
        "\n",
        "        # get the total number of simulations and maps\n",
        "        params_sims = np.loadtxt(fparams) #simulations parameters, NOT maps parameters\n",
        "        total_sims, total_maps, num_params = \\\n",
        "                params_sims.shape[0], params_sims.shape[0]*splits, params_sims.shape[1]\n",
        "        params = np.zeros((total_maps, num_params), dtype=np.float32)\n",
        "        for i in range(total_sims):\n",
        "            for j in range(splits):\n",
        "                params[i*splits + j] = params_sims[i]\n",
        "\n",
        "        # normalize params\n",
        "        minimum = np.array([0.1, 0.6, 0.25, 0.25, 0.5, 0.5])\n",
        "        maximum = np.array([0.5, 1.0, 4.00, 4.00, 2.0, 2.0])\n",
        "        params  = (params - minimum)/(maximum - minimum)\n",
        "\n",
        "        # get the size and offset depending on the type of dataset\n",
        "        if   mode=='train':  offset, size_sims = int(0.00*total_sims), int(0.90*total_sims)\n",
        "        elif mode=='valid':  offset, size_sims = int(0.90*total_sims), int(0.05*total_sims)\n",
        "        elif mode=='test':   offset, size_sims = int(0.95*total_sims), int(0.05*total_sims)\n",
        "        elif mode=='all':    offset, size_sims = int(0.00*total_sims), int(1.00*total_sims)\n",
        "        else:                raise Exception('Wrong name!')\n",
        "        size_maps = size_sims*splits\n",
        "\n",
        "        # randomly shuffle the simulations (not maps). Instead of 0 1 2 3...999 have a\n",
        "        # random permutation. E.g. 5 9 0 29...342\n",
        "        np.random.seed(seed)\n",
        "        sim_numbers = np.arange(total_sims) #shuffle maps not rotations\n",
        "        np.random.shuffle(sim_numbers)\n",
        "        sim_numbers = sim_numbers[offset:offset+size_sims] #select indexes of mode\n",
        "\n",
        "        # get the corresponding indexes of the maps associated to the sims\n",
        "        indexes = np.zeros(size_maps, dtype=np.int32)\n",
        "        count = 0\n",
        "        for i in sim_numbers:\n",
        "            for j in range(splits):\n",
        "                indexes[count] = i*splits + j\n",
        "                count += 1\n",
        "\n",
        "        # keep only the value of the parameters of the considered maps\n",
        "        params = params[indexes]\n",
        "\n",
        "        # define the matrix containing the maps without rotations or flippings\n",
        "        channels = len(fmaps)\n",
        "        dumb     = np.load(fmaps[0])    #[number of maps, height, width]\n",
        "        height, width = dumb.shape[1], dumb.shape[2];  del dumb\n",
        "        data     = np.zeros((size_maps, channels, height, width), dtype=np.float32)\n",
        "\n",
        "        # read the data\n",
        "        print('Found %d channels\\nReading data...'%channels)\n",
        "        for channel, (fim, fnorm) in enumerate(zip(fmaps, fmaps_norm)):\n",
        "\n",
        "            # read maps in the considered channel\n",
        "            data_c = np.load(fim)\n",
        "            if data_c.shape[0]!=total_maps:  raise Exception('sizes do not match')\n",
        "            if verbose:\n",
        "                print('%.3e < F(all|orig) < %.3e'%(np.min(data_c), np.max(data_c)))\n",
        "\n",
        "            # rescale maps\n",
        "            if fim.find('Mstar')!=-1:  data_c = np.log10(data_c + 1.0)\n",
        "            else:                      data_c = np.log10(data_c)\n",
        "            if verbose:\n",
        "                print('%.3f < F(all|resc)  < %.3f'%(np.min(data_c), np.max(data_c)))\n",
        "\n",
        "            # normalize maps\n",
        "            if fnorm is None:\n",
        "                mean,    std     = np.mean(data_c), np.std(data_c)\n",
        "                minimum, maximum = np.min(data_c),  np.max(data_c)\n",
        "            else:\n",
        "                # read data\n",
        "                data_norm     = np.load(fnorm)\n",
        "\n",
        "                # rescale data\n",
        "                if fnorm.find('Mstar')!=-1:  data_norm = np.log10(data_norm + 1.0)\n",
        "                else:                        data_norm = np.log10(data_norm)\n",
        "\n",
        "                # compute mean and std\n",
        "                mean,    std     = np.mean(data_norm), np.std(data_norm)\n",
        "                minimum, maximum = np.min(data_norm),  np.max(data_norm)\n",
        "                del data_norm\n",
        "\n",
        "            data_c = (data_c - mean)/std\n",
        "            if verbose:  print('%.3f < F(all|norm) < %.3f'%(np.min(data_c), np.max(data_c)))\n",
        "\n",
        "            # keep only the data of the chosen set\n",
        "            data[:,channel,:,:] = data_c[indexes]\n",
        "\n",
        "        self.size = data.shape[0]\n",
        "        self.x    = torch.tensor(data,   dtype=torch.float32)\n",
        "        self.y    = torch.tensor(params, dtype=torch.float32)\n",
        "        del data, data_c\n",
        "\n",
        "    def __len__(self):\n",
        "        return self.size\n",
        "\n",
        "    def __getitem__(self, idx):\n",
        "\n",
        "        # choose a rotation angle (0-0, 1-90, 2-180, 3-270)\n",
        "        # and whether do flipping or not\n",
        "        rot  = np.random.randint(0,4)\n",
        "        flip = np.random.randint(0,1)\n",
        "\n",
        "        # rotate and flip the maps\n",
        "        maps = torch.rot90(self.x[idx], k=rot, dims=[1,2])\n",
        "        if flip==1:  maps = torch.flip(maps, dims=[1])\n",
        "\n",
        "        return maps, self.y[idx]\n",
        "\n",
        "# get training set\n",
        "print('\\nPreparing training set')\n",
        "train_loader = create_dataset_multifield('train', seed, fmaps, fparams, batch_size, splits, fmaps_norm,\n",
        "                                         rot_flip_in_mem=rot_flip_in_mem, verbose=True)\n",
        "\n",
        "# get validation set\n",
        "print('\\nPreparing validation set')\n",
        "valid_loader = create_dataset_multifield('valid', seed, fmaps, fparams, batch_size, splits, fmaps_norm,\n",
        "                                         rot_flip_in_mem=True,  verbose=True)"
      ],
      "execution_count": null,
      "outputs": [
        {
          "output_type": "stream",
          "text": [
            "\n",
            "Preparing training set\n",
            "Found 1 channels\n",
            "Reading data...\n",
            "1.547e+03 < F(all|orig) < 8.150e+07\n",
            "3.189 < F(all|resc)  < 7.911\n",
            "-1.266 < F(all|norm) < 4.528\n",
            "\n",
            "Preparing validation set\n",
            "Found 1 channels\n",
            "Reading data...\n",
            "1.547e+03 < F(all|orig) < 8.150e+07\n",
            "3.189 < F(all|resc)  < 7.911\n",
            "-1.266 < F(all|norm) < 4.528\n",
            "Channel 0 contains 2400 maps\n",
            "-1.219 < F < 4.199\n",
            "\n"
          ],
          "name": "stdout"
        }
      ]
    },
    {
      "cell_type": "markdown",
      "metadata": {
        "id": "XYUJMjyChT1t"
      },
      "source": [
        "### Define the model architecture and use it."
      ]
    },
    {
      "cell_type": "code",
      "metadata": {
        "colab": {
          "base_uri": "https://localhost:8080/"
        },
        "id": "4yAeuGDEhXPT",
        "outputId": "02b1a665-8403-430f-f0b4-82579417e051"
      },
      "source": [
        "class model_o3_err(nn.Module):\n",
        "    def __init__(self, hidden, dr, channels):\n",
        "        super(model_o3_err, self).__init__()\n",
        "\n",
        "        # input: 1x256x256 ---------------> output: 2*hiddenx128x128\n",
        "        self.C01 = nn.Conv2d(channels,  2*hidden, kernel_size=3, stride=1, padding=1,\n",
        "                            padding_mode='circular', bias=True)\n",
        "        self.C02 = nn.Conv2d(2*hidden,  2*hidden, kernel_size=3, stride=1, padding=1,\n",
        "                            padding_mode='circular', bias=True)\n",
        "        self.C03 = nn.Conv2d(2*hidden,  2*hidden, kernel_size=2, stride=2, padding=0,\n",
        "                            padding_mode='circular', bias=True)\n",
        "        self.B01 = nn.BatchNorm2d(2*hidden)\n",
        "        self.B02 = nn.BatchNorm2d(2*hidden)\n",
        "        self.B03 = nn.BatchNorm2d(2*hidden)\n",
        "\n",
        "        # input: 2*hiddenx128x128 ----------> output: 4*hiddenx64x64\n",
        "        self.C11 = nn.Conv2d(2*hidden, 4*hidden, kernel_size=3, stride=1, padding=1,\n",
        "                            padding_mode='circular', bias=True)\n",
        "        self.C12 = nn.Conv2d(4*hidden, 4*hidden, kernel_size=3, stride=1, padding=1,\n",
        "                            padding_mode='circular', bias=True)\n",
        "        self.C13 = nn.Conv2d(4*hidden, 4*hidden, kernel_size=2, stride=2, padding=0,\n",
        "                            padding_mode='circular', bias=True)\n",
        "        self.B11 = nn.BatchNorm2d(4*hidden)\n",
        "        self.B12 = nn.BatchNorm2d(4*hidden)\n",
        "        self.B13 = nn.BatchNorm2d(4*hidden)\n",
        "\n",
        "        # input: 4*hiddenx64x64 --------> output: 8*hiddenx32x32\n",
        "        self.C21 = nn.Conv2d(4*hidden, 8*hidden, kernel_size=3, stride=1, padding=1,\n",
        "                            padding_mode='circular', bias=True)\n",
        "        self.C22 = nn.Conv2d(8*hidden, 8*hidden, kernel_size=3, stride=1, padding=1,\n",
        "                            padding_mode='circular', bias=True)\n",
        "        self.C23 = nn.Conv2d(8*hidden, 8*hidden, kernel_size=2, stride=2, padding=0,\n",
        "                            padding_mode='circular', bias=True)\n",
        "        self.B21 = nn.BatchNorm2d(8*hidden)\n",
        "        self.B22 = nn.BatchNorm2d(8*hidden)\n",
        "        self.B23 = nn.BatchNorm2d(8*hidden)\n",
        "\n",
        "        # input: 8*hiddenx32x32 ----------> output: 16*hiddenx16x16\n",
        "        self.C31 = nn.Conv2d(8*hidden,  16*hidden, kernel_size=3, stride=1, padding=1,\n",
        "                            padding_mode='circular', bias=True)\n",
        "        self.C32 = nn.Conv2d(16*hidden, 16*hidden, kernel_size=3, stride=1, padding=1,\n",
        "                            padding_mode='circular', bias=True)\n",
        "        self.C33 = nn.Conv2d(16*hidden, 16*hidden, kernel_size=2, stride=2, padding=0,\n",
        "                            padding_mode='circular', bias=True)\n",
        "        self.B31 = nn.BatchNorm2d(16*hidden)\n",
        "        self.B32 = nn.BatchNorm2d(16*hidden)\n",
        "        self.B33 = nn.BatchNorm2d(16*hidden)\n",
        "\n",
        "        # input: 16*hiddenx16x16 ----------> output: 32*hiddenx8x8\n",
        "        self.C41 = nn.Conv2d(16*hidden, 32*hidden, kernel_size=3, stride=1, padding=1,\n",
        "                            padding_mode='circular', bias=True)\n",
        "        self.C42 = nn.Conv2d(32*hidden, 32*hidden, kernel_size=3, stride=1, padding=1,\n",
        "                            padding_mode='circular', bias=True)\n",
        "        self.C43 = nn.Conv2d(32*hidden, 32*hidden, kernel_size=2, stride=2, padding=0,\n",
        "                            padding_mode='circular', bias=True)\n",
        "        self.B41 = nn.BatchNorm2d(32*hidden)\n",
        "        self.B42 = nn.BatchNorm2d(32*hidden)\n",
        "        self.B43 = nn.BatchNorm2d(32*hidden)\n",
        "\n",
        "        # input: 32*hiddenx8x8 ----------> output:64*hiddenx4x4\n",
        "        self.C51 = nn.Conv2d(32*hidden, 64*hidden, kernel_size=3, stride=1, padding=1,\n",
        "                            padding_mode='circular', bias=True)\n",
        "        self.C52 = nn.Conv2d(64*hidden, 64*hidden, kernel_size=3, stride=1, padding=1,\n",
        "                            padding_mode='circular', bias=True)\n",
        "        self.C53 = nn.Conv2d(64*hidden, 64*hidden, kernel_size=2, stride=2, padding=0,\n",
        "                            padding_mode='circular', bias=True)\n",
        "        self.B51 = nn.BatchNorm2d(64*hidden)\n",
        "        self.B52 = nn.BatchNorm2d(64*hidden)\n",
        "        self.B53 = nn.BatchNorm2d(64*hidden)\n",
        "\n",
        "        # input: 64*hiddenx4x4 ----------> output: 128*hiddenx1x1\n",
        "        self.C61 = nn.Conv2d(64*hidden, 128*hidden, kernel_size=4, stride=1, padding=0,\n",
        "                            padding_mode='circular', bias=True)\n",
        "        self.B61 = nn.BatchNorm2d(128*hidden)\n",
        "\n",
        "        self.P0  = nn.AvgPool2d(kernel_size=2, stride=2, padding=0)\n",
        "\n",
        "        self.FC1  = nn.Linear(128*hidden, 64*hidden)\n",
        "        self.FC2  = nn.Linear(64*hidden,  12)\n",
        "\n",
        "        self.dropout   = nn.Dropout(p=dr)\n",
        "        self.ReLU      = nn.ReLU()\n",
        "        self.LeakyReLU = nn.LeakyReLU(0.2)\n",
        "        self.tanh      = nn.Tanh()\n",
        "\n",
        "        for m in self.modules():\n",
        "            if isinstance(m, nn.BatchNorm2d) or isinstance(m, nn.BatchNorm1d):\n",
        "                nn.init.constant_(m.weight, 1)\n",
        "                nn.init.constant_(m.bias, 0)\n",
        "            elif isinstance(m, nn.Conv2d) or isinstance(m, nn.ConvTranspose2d) or isinstance(m, nn.Linear):\n",
        "                nn.init.kaiming_normal_(m.weight)\n",
        "\n",
        "\n",
        "    def forward(self, image):\n",
        "\n",
        "        x = self.LeakyReLU(self.C01(image))\n",
        "        x = self.LeakyReLU(self.B02(self.C02(x)))\n",
        "        x = self.LeakyReLU(self.B03(self.C03(x)))\n",
        "\n",
        "        x = self.LeakyReLU(self.B11(self.C11(x)))\n",
        "        x = self.LeakyReLU(self.B12(self.C12(x)))\n",
        "        x = self.LeakyReLU(self.B13(self.C13(x)))\n",
        "\n",
        "        x = self.LeakyReLU(self.B21(self.C21(x)))\n",
        "        x = self.LeakyReLU(self.B22(self.C22(x)))\n",
        "        x = self.LeakyReLU(self.B23(self.C23(x)))\n",
        "\n",
        "        x = self.LeakyReLU(self.B31(self.C31(x)))\n",
        "        x = self.LeakyReLU(self.B32(self.C32(x)))\n",
        "        x = self.LeakyReLU(self.B33(self.C33(x)))\n",
        "\n",
        "        x = self.LeakyReLU(self.B41(self.C41(x)))\n",
        "        x = self.LeakyReLU(self.B42(self.C42(x)))\n",
        "        x = self.LeakyReLU(self.B43(self.C43(x)))\n",
        "\n",
        "        x = self.LeakyReLU(self.B51(self.C51(x)))\n",
        "        x = self.LeakyReLU(self.B52(self.C52(x)))\n",
        "        x = self.LeakyReLU(self.B53(self.C53(x)))\n",
        "\n",
        "        x = self.LeakyReLU(self.B61(self.C61(x)))\n",
        "\n",
        "        x = x.view(image.shape[0],-1)\n",
        "        x = self.dropout(x)\n",
        "        x = self.dropout(self.LeakyReLU(self.FC1(x)))\n",
        "        x = self.FC2(x)\n",
        "\n",
        "        # enforce the errors to be positive\n",
        "        y = torch.clone(x)\n",
        "        y[:,6:12] = torch.square(x[:,6:12])\n",
        "\n",
        "        return y\n",
        "\n",
        "# now that architecture is defined above, use it\n",
        "model = model_o3_err(hidden, dr, channels)\n",
        "model.to(device=device)\n",
        "network_total_params = sum(p.numel() for p in model.parameters())\n",
        "print('total number of parameters in the model = %d'%network_total_params)"
      ],
      "execution_count": null,
      "outputs": [
        {
          "output_type": "stream",
          "text": [
            "total number of parameters in the model = 5881752\n"
          ],
          "name": "stdout"
        }
      ]
    },
    {
      "cell_type": "markdown",
      "metadata": {
        "id": "l7Wi-PCRh216"
      },
      "source": [
        "### Define the optimizer & scheduler"
      ]
    },
    {
      "cell_type": "code",
      "metadata": {
        "id": "QMgXcXclh6tj"
      },
      "source": [
        "optimizer = torch.optim.AdamW(model.parameters(), lr=lr, weight_decay=wd, betas=(beta1, beta2))\n",
        "scheduler = torch.optim.lr_scheduler.ReduceLROnPlateau(optimizer, 'min', factor=0.3, patience=10)"
      ],
      "execution_count": null,
      "outputs": []
    },
    {
      "cell_type": "markdown",
      "metadata": {
        "id": "dMbGzDy3iLsM"
      },
      "source": [
        "### compute the initial validation loss"
      ]
    },
    {
      "cell_type": "code",
      "metadata": {
        "colab": {
          "base_uri": "https://localhost:8080/"
        },
        "id": "p0e_mxP2iSqi",
        "outputId": "ceeb32eb-62cb-430e-d382-bdd87018d7f9"
      },
      "source": [
        "print('Computing initial validation loss')\n",
        "model.eval()\n",
        "valid_loss1, valid_loss2 = torch.zeros(len(g)).to(device), torch.zeros(len(g)).to(device)\n",
        "min_valid_loss, points = 0.0, 0\n",
        "for x, y in valid_loader:\n",
        "      with torch.no_grad():\n",
        "          bs   = x.shape[0]                #batch size\n",
        "          x    = x.to(device=device)       #maps\n",
        "          y    = y.to(device=device)[:,g]  #parameters\n",
        "          p    = model(x)                  #NN output\n",
        "          y_NN = p[:,g]                    #posterior mean\n",
        "          e_NN = p[:,h]                    #posterior std\n",
        "          loss1 = torch.mean((y_NN - y)**2,                axis=0)\n",
        "          loss2 = torch.mean(((y_NN - y)**2 - e_NN**2)**2, axis=0)\n",
        "          loss  = torch.mean(torch.log(loss1) + torch.log(loss2))\n",
        "          valid_loss1 += loss1*bs\n",
        "          valid_loss2 += loss2*bs\n",
        "          points += bs\n",
        "min_valid_loss = torch.log(valid_loss1/points) + torch.log(valid_loss2/points)\n",
        "min_valid_loss = torch.mean(min_valid_loss).item()\n",
        "print('Initial valid loss = %.3e'%min_valid_loss)"
      ],
      "execution_count": null,
      "outputs": [
        {
          "output_type": "stream",
          "text": [
            "Computing initial validation loss\n",
            "Initial valid loss = 2.510e+00\n"
          ],
          "name": "stdout"
        }
      ]
    },
    {
      "cell_type": "markdown",
      "metadata": {
        "id": "v8fsoPC4iw6v"
      },
      "source": [
        "### Now do a loop over all epochs while training and validating"
      ]
    },
    {
      "cell_type": "code",
      "metadata": {
        "colab": {
          "base_uri": "https://localhost:8080/"
        },
        "id": "Sy90PmxSxf9e",
        "outputId": "ba0bd7f8-afa3-4dbf-f4ad-9d98e996ecb0"
      },
      "source": [
        "# do a loop over all epochs\n",
        "start = time.time()\n",
        "for epoch in range(epochs):\n",
        "\n",
        "    # do training\n",
        "    train_loss1, train_loss2 = torch.zeros(len(g)).to(device), torch.zeros(len(g)).to(device)\n",
        "    train_loss, points = 0.0, 0\n",
        "    model.train()\n",
        "    for x, y in train_loader:\n",
        "        bs   = x.shape[0]         #batch size\n",
        "        x    = x.to(device)       #maps\n",
        "        y    = y.to(device)[:,g]  #parameters\n",
        "        p    = model(x)           #NN output\n",
        "        y_NN = p[:,g]             #posterior mean\n",
        "        e_NN = p[:,h]             #posterior std\n",
        "        loss1 = torch.mean((y_NN - y)**2,                axis=0)\n",
        "        loss2 = torch.mean(((y_NN - y)**2 - e_NN**2)**2, axis=0)\n",
        "        loss  = torch.mean(torch.log(loss1) + torch.log(loss2))\n",
        "        train_loss1 += loss1*bs\n",
        "        train_loss2 += loss2*bs\n",
        "        points      += bs\n",
        "        optimizer.zero_grad()\n",
        "        loss.backward()\n",
        "        optimizer.step()\n",
        "\n",
        "        #if points>18000:  break\n",
        "    train_loss = torch.log(train_loss1/points) + torch.log(train_loss2/points)\n",
        "    train_loss = torch.mean(train_loss).item()\n",
        "\n",
        "    # do validation: cosmo alone & all params\n",
        "    valid_loss1, valid_loss2 = torch.zeros(len(g)).to(device), torch.zeros(len(g)).to(device)\n",
        "    valid_loss, points = 0.0, 0\n",
        "    model.eval()\n",
        "    for x, y in valid_loader:\n",
        "        with torch.no_grad():\n",
        "            bs    = x.shape[0]         #batch size\n",
        "            x     = x.to(device)       #maps\n",
        "            y     = y.to(device)[:,g]  #parameters\n",
        "            p     = model(x)           #NN output\n",
        "            y_NN  = p[:,g]             #posterior mean\n",
        "            e_NN  = p[:,h]             #posterior std\n",
        "            loss1 = torch.mean((y_NN - y)**2,                axis=0)\n",
        "            loss2 = torch.mean(((y_NN - y)**2 - e_NN**2)**2, axis=0)\n",
        "            loss  = torch.mean(torch.log(loss1) + torch.log(loss2))\n",
        "            valid_loss1 += loss1*bs\n",
        "            valid_loss2 += loss2*bs\n",
        "            points     += bs\n",
        "    valid_loss = torch.log(valid_loss1/points) + torch.log(valid_loss2/points)\n",
        "    valid_loss = torch.mean(valid_loss).item()\n",
        "\n",
        "    scheduler.step(valid_loss)\n",
        "\n",
        "    # verbose\n",
        "    print('%03d %.3e %.3e '%(epoch, train_loss, valid_loss), end='')\n",
        "\n",
        "    # save model if it is better\n",
        "    if valid_loss<min_valid_loss:\n",
        "        torch.save(model.state_dict(), fmodel)\n",
        "        min_valid_loss = valid_loss\n",
        "        print('(C) ', end='')\n",
        "    print('')\n",
        "\n",
        "    # save losses to file\n",
        "    f = open(floss, 'a')\n",
        "    f.write('%d %.5e %.5e\\n'%(epoch, train_loss, valid_loss))\n",
        "    f.close()\n",
        "\n",
        "stop = time.time()\n",
        "print('Time take (h):', \"{:.4f}\".format((stop-start)/3600.0))"
      ],
      "execution_count": null,
      "outputs": [
        {
          "output_type": "stream",
          "text": [
            "000 4.160e+00 5.929e-01 (C) \n",
            "001 -4.713e+00 -6.272e+00 (C) \n",
            "002 -5.919e+00 -7.163e+00 (C) \n",
            "003 -6.488e+00 -7.238e+00 (C) \n",
            "004 -6.717e+00 -6.359e+00 \n",
            "005 -7.083e+00 -7.648e+00 (C) \n",
            "006 -7.421e+00 -7.864e+00 (C) \n",
            "007 -7.686e+00 -5.866e+00 \n",
            "008 -7.078e+00 -7.503e+00 \n",
            "009 -7.882e+00 -8.302e+00 (C) \n",
            "010 -7.928e+00 -7.516e+00 \n",
            "011 -7.993e+00 -5.614e+00 \n",
            "012 -8.136e+00 -7.746e+00 \n",
            "013 -8.276e+00 -7.464e+00 \n",
            "014 -8.402e+00 -6.470e+00 \n",
            "015 -8.392e+00 -7.649e+00 \n",
            "016 -8.445e+00 -7.331e+00 \n",
            "017 -8.470e+00 -7.767e+00 \n",
            "018 -8.641e+00 -3.970e+00 \n",
            "019 -8.642e+00 -5.409e+00 \n",
            "020 -8.760e+00 -8.600e+00 (C) \n",
            "021 -8.795e+00 -7.453e+00 \n",
            "022 -8.796e+00 -6.027e+00 \n",
            "023 -8.916e+00 -7.178e+00 \n",
            "024 -8.939e+00 -7.479e+00 \n",
            "025 -8.929e+00 -7.293e+00 \n",
            "026 -9.009e+00 -7.400e+00 \n",
            "027 -9.151e+00 -7.570e+00 \n",
            "028 -9.180e+00 -7.144e+00 \n",
            "029 -9.209e+00 -7.484e+00 \n",
            "030 -9.271e+00 -7.769e+00 \n",
            "031 -9.297e+00 -6.568e+00 \n",
            "032 -9.781e+00 -9.387e+00 (C) \n",
            "033 -9.972e+00 -8.743e+00 \n",
            "034 -1.004e+01 -8.934e+00 \n",
            "035 -1.002e+01 -8.976e+00 \n",
            "036 -1.010e+01 -8.792e+00 \n",
            "037 -1.014e+01 -9.266e+00 \n",
            "038 -9.995e+00 -8.775e+00 \n",
            "039 -1.009e+01 -8.916e+00 \n",
            "040 -1.022e+01 -8.951e+00 \n",
            "041 -1.021e+01 -9.171e+00 \n",
            "042 -1.022e+01 -8.846e+00 \n",
            "043 -1.016e+01 -9.292e+00 \n",
            "044 -1.052e+01 -9.910e+00 (C) \n",
            "045 -1.057e+01 -1.009e+01 (C) \n",
            "046 -1.057e+01 -9.853e+00 \n",
            "047 -1.066e+01 -1.005e+01 \n",
            "048 -1.068e+01 -1.035e+01 (C) \n",
            "049 -1.064e+01 -1.015e+01 \n",
            "050 -1.073e+01 -9.473e+00 \n",
            "051 -1.071e+01 -9.565e+00 \n",
            "052 -1.072e+01 -1.038e+01 (C) \n",
            "053 -1.073e+01 -9.801e+00 \n",
            "054 -1.074e+01 -9.668e+00 \n",
            "055 -1.075e+01 -1.023e+01 \n",
            "056 -1.079e+01 -9.310e+00 \n",
            "057 -1.075e+01 -9.958e+00 \n",
            "058 -1.088e+01 -9.717e+00 \n",
            "059 -1.089e+01 -9.647e+00 \n",
            "060 -1.084e+01 -1.034e+01 \n",
            "061 -1.089e+01 -9.902e+00 \n",
            "062 -1.088e+01 -9.440e+00 \n",
            "063 -1.086e+01 -9.877e+00 \n",
            "064 -1.098e+01 -1.056e+01 (C) \n",
            "065 -1.108e+01 -1.042e+01 \n",
            "066 -1.114e+01 -1.043e+01 \n",
            "067 -1.114e+01 -1.046e+01 \n",
            "068 -1.116e+01 -1.040e+01 \n",
            "069 -1.113e+01 -1.019e+01 \n",
            "070 -1.111e+01 -1.033e+01 \n",
            "071 -1.116e+01 -1.041e+01 \n",
            "072 -1.117e+01 -1.039e+01 \n",
            "073 -1.114e+01 -1.051e+01 \n",
            "074 -1.119e+01 -1.052e+01 \n",
            "075 -1.129e+01 -1.044e+01 \n",
            "076 -1.128e+01 -1.055e+01 \n",
            "077 -1.126e+01 -1.056e+01 (C) \n",
            "078 -1.123e+01 -1.044e+01 \n",
            "079 -1.126e+01 -1.049e+01 \n",
            "080 -1.126e+01 -1.055e+01 \n",
            "081 -1.133e+01 -1.045e+01 \n",
            "082 -1.121e+01 -1.060e+01 (C) \n",
            "083 -1.131e+01 -1.058e+01 \n",
            "084 -1.130e+01 -1.052e+01 \n",
            "085 -1.134e+01 -1.055e+01 \n",
            "086 -1.132e+01 -1.056e+01 \n",
            "087 -1.130e+01 -1.049e+01 \n",
            "088 -1.134e+01 -1.059e+01 \n",
            "089 -1.135e+01 -1.040e+01 \n",
            "090 -1.133e+01 -1.051e+01 \n",
            "091 -1.132e+01 -1.047e+01 \n",
            "092 -1.131e+01 -1.057e+01 \n",
            "093 -1.129e+01 -1.044e+01 \n",
            "094 -1.129e+01 -1.056e+01 \n",
            "095 -1.136e+01 -1.055e+01 \n",
            "096 -1.133e+01 -1.049e+01 \n",
            "097 -1.135e+01 -1.058e+01 \n",
            "098 -1.133e+01 -1.049e+01 \n",
            "099 -1.134e+01 -1.056e+01 \n",
            "Time take (h): 0.7530\n"
          ],
          "name": "stdout"
        }
      ]
    },
    {
      "cell_type": "markdown",
      "metadata": {
        "id": "kJh7kM4vmye5"
      },
      "source": [
        "\n",
        "\n",
        "\n",
        "### Now test the model"
      ]
    },
    {
      "cell_type": "code",
      "metadata": {
        "colab": {
          "base_uri": "https://localhost:8080/"
        },
        "id": "RYIhDeVH5fWs",
        "outputId": "95b54df0-b760-4096-e2a1-1f44d83f51ba"
      },
      "source": [
        "# load the weights in case they exists\n",
        "if os.path.exists(fmodel):\n",
        "    model.load_state_dict(torch.load(fmodel, map_location=torch.device(device)))\n",
        "    print('Weights loaded')"
      ],
      "execution_count": null,
      "outputs": [
        {
          "output_type": "stream",
          "text": [
            "Weights loaded\n"
          ],
          "name": "stdout"
        }
      ]
    },
    {
      "cell_type": "code",
      "metadata": {
        "colab": {
          "base_uri": "https://localhost:8080/"
        },
        "id": "fYndRfrpkt1p",
        "outputId": "9f5d0e17-6dfb-45e9-a215-e1d959c78290"
      },
      "source": [
        "# load test set\n",
        "test_loader  = create_dataset_multifield('test', seed, fmaps, fparams, batch_size, splits, fmaps_norm,\n",
        "                                         rot_flip_in_mem=False, verbose=True)\n",
        "\n",
        "# get the number of maps in the test set\n",
        "num_maps = 0\n",
        "for x,y in test_loader:\n",
        "      num_maps += x.shape[0]\n",
        "print('\\nNumber of maps in the test set: %d'%num_maps)\n",
        "\n",
        "# define the arrays containing the value of the parameters\n",
        "params_true = np.zeros((num_maps,6), dtype=np.float32)\n",
        "params_NN   = np.zeros((num_maps,6), dtype=np.float32)\n",
        "errors_NN   = np.zeros((num_maps,6), dtype=np.float32)\n",
        "\n",
        "# get test loss\n",
        "test_loss1, test_loss2 = torch.zeros(len(g)).to(device), torch.zeros(len(g)).to(device)\n",
        "test_loss, points = 0.0, 0\n",
        "model.eval()\n",
        "for x, y in test_loader:\n",
        "    with torch.no_grad():\n",
        "        bs    = x.shape[0]    #batch size\n",
        "        x     = x.to(device)  #send data to device\n",
        "        y     = y.to(device)  #send data to device\n",
        "        p     = model(x)      #prediction for mean and variance\n",
        "        y_NN  = p[:,:6]       #prediction for mean\n",
        "        e_NN  = p[:,6:]       #prediction for error\n",
        "        loss1 = torch.mean((y_NN[:,g] - y[:,g])**2,                     axis=0)\n",
        "        loss2 = torch.mean(((y_NN[:,g] - y[:,g])**2 - e_NN[:,g]**2)**2, axis=0)\n",
        "        test_loss1 += loss1*bs\n",
        "        test_loss2 += loss2*bs\n",
        "\n",
        "        # save results to their corresponding arrays\n",
        "        params_true[points:points+x.shape[0]] = y.cpu().numpy()\n",
        "        params_NN[points:points+x.shape[0]]   = y_NN.cpu().numpy()\n",
        "        errors_NN[points:points+x.shape[0]]   = e_NN.cpu().numpy()\n",
        "        points    += x.shape[0]\n",
        "test_loss = torch.log(test_loss1/points) + torch.log(test_loss2/points)\n",
        "test_loss = torch.mean(test_loss).item()\n",
        "print('Test loss = %.3e\\n'%test_loss)\n",
        "\n",
        "Norm_error = np.sqrt(np.mean((params_true - params_NN)**2, axis=0))\n",
        "print('Normalized Error Omega_m = %.3f'%Norm_error[0])\n",
        "print('Normalized Error sigma_8 = %.3f'%Norm_error[1])\n",
        "print('Normalized Error A_SN1   = %.3f'%Norm_error[2])\n",
        "print('Normalized Error A_AGN1  = %.3f'%Norm_error[3])\n",
        "print('Normalized Error A_SN2   = %.3f'%Norm_error[4])\n",
        "print('Normalized Error A_AGN2  = %.3f\\n'%Norm_error[5])\n",
        "\n",
        "# de-normalize\n",
        "minimum = np.array([0.1, 0.6, 0.25, 0.25, 0.5, 0.5])\n",
        "maximum = np.array([0.5, 1.0, 4.00, 4.00, 2.0, 2.0])\n",
        "params_true = params_true*(maximum - minimum) + minimum\n",
        "params_NN   = params_NN*(maximum - minimum) + minimum\n",
        "errors_NN   = errors_NN*(maximum - minimum)\n",
        "\n",
        "error = np.sqrt(np.mean((params_true - params_NN)**2, axis=0))\n",
        "print('Error Omega_m = %.3f'%error[0])\n",
        "print('Error sigma_8 = %.3f'%error[1])\n",
        "print('Error A_SN1   = %.3f'%error[2])\n",
        "print('Error A_AGN1  = %.3f'%error[3])\n",
        "print('Error A_SN2   = %.3f'%error[4])\n",
        "print('Error A_AGN2  = %.3f\\n'%error[5])\n",
        "\n",
        "mean_error = np.absolute(np.mean(errors_NN, axis=0))\n",
        "print('Bayesian error Omega_m = %.3f'%mean_error[0])\n",
        "print('Bayesian error sigma_8 = %.3f'%mean_error[1])\n",
        "print('Bayesian error A_SN1   = %.3f'%mean_error[2])\n",
        "print('Bayesian error A_AGN1  = %.3f'%mean_error[3])\n",
        "print('Bayesian error A_SN2   = %.3f'%mean_error[4])\n",
        "print('Bayesian error A_AGN2  = %.3f\\n'%mean_error[5])\n",
        "\n",
        "rel_error = np.sqrt(np.mean((params_true - params_NN)**2/params_true**2, axis=0))\n",
        "print('Relative error Omega_m = %.3f'%rel_error[0])\n",
        "print('Relative error sigma_8 = %.3f'%rel_error[1])\n",
        "print('Relative error A_SN1   = %.3f'%rel_error[2])\n",
        "print('Relative error A_AGN1  = %.3f'%rel_error[3])\n",
        "print('Relative error A_SN2   = %.3f'%rel_error[4])\n",
        "print('Relative error A_AGN2  = %.3f\\n'%rel_error[5])\n",
        "\n",
        "# save results to file\n",
        "#dataset = np.zeros((num_maps,18), dtype=np.float32)\n",
        "#dataset[:,:6]   = params_true\n",
        "#dataset[:,6:12] = params_NN\n",
        "#dataset[:,12:]  = errors_NN\n",
        "#np.savetxt(fresults,  dataset)\n",
        "#np.savetxt(fresults1, Norm_error)"
      ],
      "execution_count": null,
      "outputs": [
        {
          "output_type": "stream",
          "text": [
            "Found 1 channels\n",
            "Reading data...\n",
            "1.547e+03 < F(all|orig) < 8.150e+07\n",
            "3.189 < F(all|resc)  < 7.911\n",
            "-1.266 < F(all|norm) < 4.528\n",
            "\n",
            "Number of maps in the test set: 300\n",
            "Test loss = -1.032e+01\n",
            "\n",
            "Normalized Error Omega_m = 0.063\n",
            "Normalized Error sigma_8 = 0.114\n",
            "Normalized Error A_SN1   = 0.163\n",
            "Normalized Error A_AGN1  = 0.313\n",
            "Normalized Error A_SN2   = 0.146\n",
            "Normalized Error A_AGN2  = 0.266\n",
            "\n",
            "Error Omega_m = 0.025\n",
            "Error sigma_8 = 0.045\n",
            "Error A_SN1   = 0.610\n",
            "Error A_AGN1  = 1.175\n",
            "Error A_SN2   = 0.220\n",
            "Error A_AGN2  = 0.399\n",
            "\n",
            "Bayesian error Omega_m = 0.016\n",
            "Bayesian error sigma_8 = 0.029\n",
            "Bayesian error A_SN1   = 0.483\n",
            "Bayesian error A_AGN1  = 1.008\n",
            "Bayesian error A_SN2   = 0.134\n",
            "Bayesian error A_AGN2  = 0.348\n",
            "\n",
            "Relative error Omega_m = 0.082\n",
            "Relative error sigma_8 = 0.058\n",
            "Relative error A_SN1   = 0.806\n",
            "Relative error A_AGN1  = 1.946\n",
            "Relative error A_SN2   = 0.257\n",
            "Relative error A_AGN2  = 0.502\n",
            "\n"
          ],
          "name": "stdout"
        }
      ]
    },
    {
      "cell_type": "markdown",
      "metadata": {
        "id": "90J57zLFqjiV"
      },
      "source": [
        "### plot the results for $\\Omega_{\\rm m}$"
      ]
    },
    {
      "cell_type": "code",
      "metadata": {
        "colab": {
          "base_uri": "https://localhost:8080/",
          "height": 444
        },
        "id": "xmMUI3bKqbvI",
        "outputId": "91c33fa3-30f2-4708-fd64-e6c88f8f7ca6"
      },
      "source": [
        "# select the first map of every simulation in the test set\n",
        "indexes = np.arange(50)*splits\n",
        "\n",
        "fig=plt.figure(figsize=(7,7))\n",
        "plt.xlabel(r'${\\rm Truth}$')\n",
        "plt.ylabel(r'${\\rm Inference}$')\n",
        "plt.text(0.1, 0.45, r'$\\Omega_{\\rm m}$',fontsize=18)\n",
        "\n",
        "plt.errorbar(params_true[indexes,0], params_NN[indexes,0], errors_NN[indexes,0],\n",
        "             linestyle='None', lw=1, fmt='o', ms=2, elinewidth=1, capsize=0, c='r')\n",
        "plt.plot([0.1,0.5], [0.1,0.5], color='k')\n",
        "\n",
        "plt.show()"
      ],
      "execution_count": null,
      "outputs": [
        {
          "output_type": "display_data",
          "data": {
            "image/png": "[encoded data removed]",
            "text/plain": [
              "<Figure size 504x504 with 1 Axes>"
            ]
          },
          "metadata": {
            "tags": [],
            "needs_background": "light"
          }
        }
      ]
    },
    {
      "cell_type": "markdown",
      "metadata": {
        "id": "XE8itGaGvvKb"
      },
      "source": [
        "### plot the results for $\\sigma_8$"
      ]
    },
    {
      "cell_type": "code",
      "metadata": {
        "id": "h_Wf7whwrE_D",
        "colab": {
          "base_uri": "https://localhost:8080/",
          "height": 444
        },
        "outputId": "85b8f3d1-e94a-4308-87f8-306b0fcd855c"
      },
      "source": [
        "fig=plt.figure(figsize=(7,7))\n",
        "plt.xlabel(r'${\\rm Truth}$')\n",
        "plt.ylabel(r'${\\rm Inference}$')\n",
        "plt.text(0.6, 0.95, r'$\\sigma_8$',fontsize=18)\n",
        "\n",
        "plt.errorbar(params_true[indexes,1], params_NN[indexes,1], errors_NN[indexes,1],\n",
        "             linestyle='None', lw=1, fmt='o', ms=2, elinewidth=1, capsize=0, c='r')\n",
        "plt.plot([0.6,1.0], [0.6,1.0], color='k')\n",
        "\n",
        "plt.show()"
      ],
      "execution_count": null,
      "outputs": [
        {
          "output_type": "display_data",
          "data": {
            "image/png": "[encoded data removed]",
            "text/plain": [
              "<Figure size 504x504 with 1 Axes>"
            ]
          },
          "metadata": {
            "tags": [],
            "needs_background": "light"
          }
        }
      ]
    },
    {
      "cell_type": "markdown",
      "metadata": {
        "id": "Qw17Gj8jW0Zb"
      },
      "source": [
        "### plot results for $A_{\\rm SN1}$"
      ]
    },
    {
      "cell_type": "code",
      "metadata": {
        "id": "Ny2RUsZov3YY",
        "colab": {
          "base_uri": "https://localhost:8080/",
          "height": 444
        },
        "outputId": "49611c72-7594-4a3d-e6e4-6c4a4d47934b"
      },
      "source": [
        "fig=plt.figure(figsize=(7,7))\n",
        "plt.xlabel(r'${\\rm Truth}$')\n",
        "plt.ylabel(r'${\\rm Inference}$')\n",
        "plt.text(0.25, 4.0, r'$A_{\\rm SN1}$',fontsize=18)\n",
        "\n",
        "plt.errorbar(params_true[indexes,2], params_NN[indexes,2], errors_NN[indexes,2],\n",
        "             linestyle='None', lw=1, fmt='o', ms=2, elinewidth=1, capsize=0, c='r')\n",
        "plt.plot([0.25,4.0], [0.25,4.0], color='k')\n",
        "\n",
        "plt.show()"
      ],
      "execution_count": null,
      "outputs": [
        {
          "output_type": "display_data",
          "data": {
            "image/png": "[encoded data removed]",
            "text/plain": [
              "<Figure size 504x504 with 1 Axes>"
            ]
          },
          "metadata": {
            "tags": [],
            "needs_background": "light"
          }
        }
      ]
    },
    {
      "cell_type": "markdown",
      "metadata": {
        "id": "Ykfc2lN5W4_-"
      },
      "source": [
        "### plot results for $A_{\\rm SN2}$"
      ]
    },
    {
      "cell_type": "code",
      "metadata": {
        "colab": {
          "base_uri": "https://localhost:8080/",
          "height": 444
        },
        "id": "o_ZvKgHyYIGK",
        "outputId": "7956d009-d41b-4759-92df-18a5ea3fc58e"
      },
      "source": [
        "fig=plt.figure(figsize=(7,7))\n",
        "plt.xlabel(r'${\\rm Truth}$')\n",
        "plt.ylabel(r'${\\rm Inference}$')\n",
        "plt.text(0.5, 2.0, r'$A_{\\rm SN2}$',fontsize=18)\n",
        "\n",
        "plt.errorbar(params_true[indexes,4], params_NN[indexes,4], errors_NN[indexes,4],\n",
        "             linestyle='None', lw=1, fmt='o', ms=2, elinewidth=1, capsize=0, c='r')\n",
        "plt.plot([0.5,2.0], [0.5,2.0], color='k')\n",
        "\n",
        "plt.show()"
      ],
      "execution_count": null,
      "outputs": [
        {
          "output_type": "display_data",
          "data": {
            "image/png": "[encoded data removed]",
            "text/plain": [
              "<Figure size 504x504 with 1 Axes>"
            ]
          },
          "metadata": {
            "tags": [],
            "needs_background": "light"
          }
        }
      ]
    },
    {
      "cell_type": "markdown",
      "metadata": {
        "id": "6MZKJYOWXAbt"
      },
      "source": [
        "### plot results for $A_{\\rm AGN1}$"
      ]
    },
    {
      "cell_type": "code",
      "metadata": {
        "colab": {
          "base_uri": "https://localhost:8080/",
          "height": 444
        },
        "id": "iUOFxWNUYC04",
        "outputId": "71be6d76-bc31-41bd-c03b-a4a2adabd729"
      },
      "source": [
        "fig=plt.figure(figsize=(7,7))\n",
        "plt.xlabel(r'${\\rm Truth}$')\n",
        "plt.ylabel(r'${\\rm Inference}$')\n",
        "plt.text(0.25, 4.0, r'$A_{\\rm AGN1}$',fontsize=18)\n",
        "\n",
        "plt.errorbar(params_true[indexes,3], params_NN[indexes,3], errors_NN[indexes,3],\n",
        "             linestyle='None', lw=1, fmt='o', ms=2, elinewidth=1, capsize=0, c='r')\n",
        "plt.plot([0.25,4.0], [0.25,4.0], color='k')\n",
        "\n",
        "plt.show()"
      ],
      "execution_count": null,
      "outputs": [
        {
          "output_type": "display_data",
          "data": {
            "image/png": "[encoded data removed]",
            "text/plain": [
              "<Figure size 504x504 with 1 Axes>"
            ]
          },
          "metadata": {
            "tags": [],
            "needs_background": "light"
          }
        }
      ]
    },
    {
      "cell_type": "markdown",
      "metadata": {
        "id": "uHousvPDXAEj"
      },
      "source": [
        "### plot results for $A_{\\rm AGN2}$"
      ]
    },
    {
      "cell_type": "code",
      "metadata": {
        "colab": {
          "base_uri": "https://localhost:8080/",
          "height": 444
        },
        "id": "K23LDB1aW9-i",
        "outputId": "d2c94d8a-25de-40f6-9035-3ccd765571c2"
      },
      "source": [
        "fig=plt.figure(figsize=(7,7))\n",
        "plt.xlabel(r'${\\rm Truth}$')\n",
        "plt.ylabel(r'${\\rm Inference}$')\n",
        "plt.text(0.5, 2.0, r'$A_{\\rm AGN2}$',fontsize=18)\n",
        "\n",
        "plt.errorbar(params_true[indexes,5], params_NN[indexes,5], errors_NN[indexes,5],\n",
        "             linestyle='None', lw=1, fmt='o', ms=2, elinewidth=1, capsize=0, c='r')\n",
        "plt.plot([0.5,2.0], [0.5,2.0], color='k')\n",
        "\n",
        "plt.show()"
      ],
      "execution_count": null,
      "outputs": [
        {
          "output_type": "display_data",
          "data": {
            "image/png": "[encoded data removed]",
            "text/plain": [
              "<Figure size 504x504 with 1 Axes>"
            ]
          },
          "metadata": {
            "tags": [],
            "needs_background": "light"
          }
        }
      ]
    }
  ]
}